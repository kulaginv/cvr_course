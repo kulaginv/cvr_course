{
  "cells": [
    {
      "cell_type": "markdown",
      "id": "acquired-accused",
      "metadata": {
        "id": "acquired-accused"
      },
      "source": [
        "# Локализация. Упражнения"
      ]
    },
    {
      "cell_type": "markdown",
      "id": "electric-shannon",
      "metadata": {
        "id": "electric-shannon"
      },
      "source": [
        "В этих упражнениях вам предлагается реализовать простые алгоритмы локализации роботов. На лекции, помимо фильтра частиц, были упомянуты методы триангуляции и альфа-бета фильтр. Давайте их реализуем: обе реализации должны быть сделаны в виде класса, у которого должен быть метод update. Метод update принимает на вход измеренения с камеры о положении ориентиров в сосбтвенной системе координат робота."
      ]
    },
    {
      "cell_type": "markdown",
      "id": "trained-funds",
      "metadata": {
        "id": "trained-funds"
      },
      "source": [
        "В качестве ориентиров будем использовать координаты стоек ворот. Для удобства будем пользоваться упрощенным вариантом, при котором ворота разных цветов. В словаре храняться положения стоек в глобальной системе координат (точка (0, 0) нахождится в центре поля)"
      ]
    },
    {
      "cell_type": "code",
      "execution_count": 1,
      "id": "artistic-holocaust",
      "metadata": {
        "id": "artistic-holocaust"
      },
      "outputs": [],
      "source": [
        "landmarks = {\n",
        "    \"blue_posts\": [\n",
        "        [ -4.5, -1.0], [ -4.5, 1.0]\n",
        "    ],\n",
        "    \"yellow_posts\":[\n",
        "        [ 4.5, -1.0], [ 4.5, 1.0]\n",
        "    ]\n",
        "}"
      ]
    },
    {
      "cell_type": "markdown",
      "id": "gross-browse",
      "metadata": {
        "id": "gross-browse"
      },
      "source": [
        "Пример данных, которые могут поступать в модуль на одном шаге всей системы. Данные во втором словаре – это данные одометрии с собвственной информацией робота о перемещении за один шаг системы. Для проверки работы придумайте и запишите набор данных с такой же структурой. "
      ]
    },
    {
      "cell_type": "code",
      "execution_count": 48,
      "id": "freelance-clothing",
      "metadata": {
        "id": "freelance-clothing"
      },
      "outputs": [],
      "source": [
        "observations = {\"yellow_posts\":[[4.45, -0.99],[4.49, 1.09]], \"blue_posts\":[]}\n",
        "shift = {'shift_x':0.0, 'shift_y':0.01, 'shift_angle':-0.4} "
      ]
    },
    {
      "cell_type": "markdown",
      "id": "behind-mouth",
      "metadata": {
        "id": "behind-mouth"
      },
      "source": [
        "### 1) Реализовать локализацию триангуляцией (3 балл)\n",
        "    "
      ]
    },
    {
      "cell_type": "code",
      "source": [
        "class Robot:\n",
        "  def __init__(self,x=0,y=0,ang=0):\n",
        "    self.x = x\n",
        "    self.y = y\n",
        "    self.ang = ang"
      ],
      "metadata": {
        "id": "27xJ77dXgpDx"
      },
      "id": "27xJ77dXgpDx",
      "execution_count": 4,
      "outputs": []
    },
    {
      "cell_type": "code",
      "execution_count": 49,
      "id": "funded-external",
      "metadata": {
        "id": "funded-external"
      },
      "outputs": [],
      "source": [
        "from math import sqrt\n",
        "class localization_triangulation:\n",
        "    \n",
        "    #put your code here\n",
        "    def __init__(self,robot,landmarks,n=100):\n",
        "      self.robot = robot\n",
        "      self.landmarks = landmarks\n",
        "      self.n = n\n",
        "    \n",
        "    def returnCoo(self):\n",
        "      return self.robot.x, self.robot.y, self. robot.ang\n",
        "    \n",
        "    def get_points_of_intersection(self,x10, y10, r1 , x20, y20, r2):\n",
        "      d = sqrt((x10-x20)**2 + (y10-y20)**2)\n",
        "      if d > r1+r2 : return 0;\n",
        "      a = (r1*r1 - r2*r2 + d*d ) / (2*d)\n",
        "      h = sqrt(r1**2 - a**2)\n",
        "      x0 = x10 + a*(x20 - x10)/d;\n",
        "      y0 = y10 + a*(y20 - y10)/d;\n",
        "      x1= x0 + h*(y20 - y10)/d;\n",
        "      y1= y0 - h*(x20 - x10)/d;\n",
        "      print('First intersection : ', x1,y1)\n",
        "      if a == r1 : return [x1,y1]\n",
        "      x2 = x0 - h*(y20 - y10)/d;\n",
        "      y2 = y0 + h*(x20 - x10)/d;\n",
        "      print('Second intersection : ', x2,y2)\n",
        "      return [x1,y1,x2,y2]\n",
        "    \n",
        "    def update(self,observations):\n",
        "      if observations['yellow_posts']:\n",
        "        dxl = observations['yellow_posts'][0][0]\n",
        "        dyl = observations['yellow_posts'][0][1]\n",
        "        r1 = sqrt(dxl**2+dyl**2)\n",
        "        dxR = observations['yellow_posts'][1][0]\n",
        "        dyR = observations['yellow_posts'][1][1]\n",
        "        r2 = sqrt(dxR**2+dyR**2)\n",
        "        x10 = landmarks['yellow_posts'][0][0]\n",
        "        y10 = landmarks['yellow_posts'][0][1]\n",
        "        x20 = landmarks['yellow_posts'][1][0]\n",
        "        y20 = landmarks['yellow_posts'][1][1]\n",
        "      else :\n",
        "        dxl = observations['blue_posts'][0][0]\n",
        "        dyl = observations['blue_posts'][0][1]\n",
        "        r1 = sqrt(dxl**2+dyl**2)\n",
        "        dxR = observations['blue_posts'][1][0]\n",
        "        dyR = observations['blue_posts'][1][1]\n",
        "        r2 = sqrt(dxR**2+dyR**2)\n",
        "        x10 = landmarks['blue_posts'][0][0]\n",
        "        y10 = landmarks['blue_posts'][0][1]\n",
        "        x20 = landmarks['blue_posts'][1][0]\n",
        "        y20 = landmarks['blue_posts'][1][1]\n",
        "      inter = self.get_points_of_intersection(x10, y10, r1 , x20, y20, r2)\n",
        "      self.robot.x = inter[2]\n",
        "      self.robot.y = inter[3]"
      ]
    },
    {
      "cell_type": "code",
      "source": [
        "triang = localization_triangulation(Robot(0.0,0.0,0.0), landmarks)"
      ],
      "metadata": {
        "id": "Dyn74z2iruTS"
      },
      "id": "Dyn74z2iruTS",
      "execution_count": 50,
      "outputs": []
    },
    {
      "cell_type": "code",
      "source": [
        "triang.update(observations)"
      ],
      "metadata": {
        "colab": {
          "base_uri": "https://localhost:8080/"
        },
        "id": "TRtYIKmdsA7J",
        "outputId": "3970da88-451c-4331-a55f-779e59621866"
      },
      "id": "TRtYIKmdsA7J",
      "execution_count": 51,
      "outputs": [
        {
          "output_type": "stream",
          "name": "stdout",
          "text": [
            "First intersection :  8.97720962654196 -0.14139999999999997\n",
            "Second intersection :  0.022790373458040136 -0.14139999999999997\n"
          ]
        }
      ]
    },
    {
      "cell_type": "code",
      "source": [
        "triang.returnCoo()"
      ],
      "metadata": {
        "colab": {
          "base_uri": "https://localhost:8080/"
        },
        "id": "1dsvKSVZuIKl",
        "outputId": "a07d6605-c23b-41cc-a850-5bcf112d27dd"
      },
      "id": "1dsvKSVZuIKl",
      "execution_count": 52,
      "outputs": [
        {
          "output_type": "execute_result",
          "data": {
            "text/plain": [
              "(0.022790373458040136, -0.14139999999999997, 0.0)"
            ]
          },
          "metadata": {},
          "execution_count": 52
        }
      ]
    },
    {
      "cell_type": "markdown",
      "id": "freelance-messaging",
      "metadata": {
        "id": "freelance-messaging"
      },
      "source": [
        "### 2) Дополнить предыдущий пункт до альфа-бета фильтра (5 балла)"
      ]
    },
    {
      "cell_type": "code",
      "execution_count": null,
      "id": "cordless-messenger",
      "metadata": {
        "id": "cordless-messenger"
      },
      "outputs": [],
      "source": [
        "class localization_alphabeta:\n",
        "    \n",
        "    #put your code here\n",
        "    \n",
        "    pass\n",
        "    \n",
        "    def update():\n",
        "        \n",
        "        #put your code here\n",
        "        \n",
        "        pass"
      ]
    },
    {
      "cell_type": "markdown",
      "id": "vanilla-documentary",
      "metadata": {
        "id": "vanilla-documentary"
      },
      "source": [
        "### 3) *Дополнительно* Добавьте визуализацию вида сверху  (2 балла)"
      ]
    },
    {
      "cell_type": "markdown",
      "id": "polyphonic-extension",
      "metadata": {
        "id": "polyphonic-extension"
      },
      "source": [
        "Например на OpenCV или Matplotlib, например так как было в семинаре, чтобы можно было удобно посмотреть на работу модуля.\n"
      ]
    },
    {
      "cell_type": "code",
      "execution_count": 3,
      "id": "systematic-prairie",
      "metadata": {
        "id": "systematic-prairie"
      },
      "outputs": [],
      "source": [
        "class Field:\n",
        "  def __init__(self, field_param):\n",
        "    self.field = field_param\n",
        "    self.w_width = field_param['main_rectangle'][0][0]\n",
        "    self.w_lenght = field_param['main_rectangle'][0][0]"
      ]
    }
  ],
  "metadata": {
    "kernelspec": {
      "display_name": "Python 3",
      "language": "python",
      "name": "python3"
    },
    "language_info": {
      "codemirror_mode": {
        "name": "ipython",
        "version": 3
      },
      "file_extension": ".py",
      "mimetype": "text/x-python",
      "name": "python",
      "nbconvert_exporter": "python",
      "pygments_lexer": "ipython3",
      "version": "3.9.2"
    },
    "colab": {
      "name": "localization_hw8.ipynb",
      "provenance": []
    }
  },
  "nbformat": 4,
  "nbformat_minor": 5
}