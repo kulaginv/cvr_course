{
  "cells": [
    {
      "cell_type": "markdown",
      "metadata": {
        "id": "view-in-github",
        "colab_type": "text"
      },
      "source": [
        "<a href=\"https://colab.research.google.com/github/kulaginv/cvr_course/blob/main/notebooks/localization_hw8.ipynb\" target=\"_parent\"><img src=\"https://colab.research.google.com/assets/colab-badge.svg\" alt=\"Open In Colab\"/></a>"
      ]
    },
    {
      "cell_type": "markdown",
      "id": "acquired-accused",
      "metadata": {
        "id": "acquired-accused"
      },
      "source": [
        "# Локализация. Упражнения"
      ]
    },
    {
      "cell_type": "markdown",
      "id": "electric-shannon",
      "metadata": {
        "id": "electric-shannon"
      },
      "source": [
        "В этих упражнениях вам предлагается реализовать простые алгоритмы локализации роботов. На лекции, помимо фильтра частиц, были упомянуты методы триангуляции и альфа-бета фильтр. Давайте их реализуем: обе реализации должны быть сделаны в виде класса, у которого должен быть метод update. Метод update принимает на вход измеренения с камеры о положении ориентиров в сосбтвенной системе координат робота."
      ]
    },
    {
      "cell_type": "markdown",
      "id": "trained-funds",
      "metadata": {
        "id": "trained-funds"
      },
      "source": [
        "В качестве ориентиров будем использовать координаты стоек ворот. Для удобства будем пользоваться упрощенным вариантом, при котором ворота разных цветов. В словаре храняться положения стоек в глобальной системе координат (точка (0, 0) нахождится в центре поля)"
      ]
    },
    {
      "cell_type": "code",
      "execution_count": 1,
      "id": "artistic-holocaust",
      "metadata": {
        "id": "artistic-holocaust"
      },
      "outputs": [],
      "source": [
        "landmarks = {\n",
        "    \"blue_posts\": [\n",
        "        [ -4.5, -1.0], [ -4.5, 1.0]\n",
        "    ],\n",
        "    \"yellow_posts\":[\n",
        "        [ 4.5, -1.0], [ 4.5, 1.0]\n",
        "    ]\n",
        "}"
      ]
    },
    {
      "cell_type": "markdown",
      "id": "gross-browse",
      "metadata": {
        "id": "gross-browse"
      },
      "source": [
        "Пример данных, которые могут поступать в модуль на одном шаге всей системы. Данные во втором словаре – это данные одометрии с собвственной информацией робота о перемещении за один шаг системы. Для проверки работы придумайте и запишите набор данных с такой же структурой. "
      ]
    },
    {
      "cell_type": "code",
      "execution_count": 146,
      "id": "freelance-clothing",
      "metadata": {
        "id": "freelance-clothing"
      },
      "outputs": [],
      "source": [
        "#observations = {\"yellow_posts\":[[4.45, -0.99],[4.49, 1.09]], \"blue_posts\":[]}\n",
        "#shift = {'shift_x':0.0, 'shift_y':0.01, 'shift_angle':-0.4} \n",
        "observations = {\"yellow_posts\":[[3.45, -0.99],[3.49, 1.09]], \"blue_posts\":[]}\n",
        "shift = {'shift_x':1.0, 'shift_y':0.01, 'shift_angle':-0.27} "
      ]
    },
    {
      "cell_type": "markdown",
      "id": "behind-mouth",
      "metadata": {
        "id": "behind-mouth"
      },
      "source": [
        "### 1) Реализовать локализацию триангуляцией (3 балл)\n",
        "    "
      ]
    },
    {
      "cell_type": "code",
      "source": [
        "class Robot:\n",
        "  def __init__(self,x=0,y=0,ang=0):\n",
        "    self.x = x\n",
        "    self.y = y\n",
        "    self.ang = ang"
      ],
      "metadata": {
        "id": "27xJ77dXgpDx"
      },
      "id": "27xJ77dXgpDx",
      "execution_count": 4,
      "outputs": []
    },
    {
      "cell_type": "code",
      "execution_count": 57,
      "id": "funded-external",
      "metadata": {
        "id": "funded-external"
      },
      "outputs": [],
      "source": [
        "from math import sqrt\n",
        "class localization_triangulation:\n",
        "    \n",
        "    #put your code here\n",
        "    def __init__(self,robot,landmarks):\n",
        "      self.robot = robot\n",
        "      self.landmarks = landmarks\n",
        "    \n",
        "    def get_points_of_intersection(self,x10, y10, r1 , x20, y20, r2):\n",
        "      d = sqrt((x10-x20)**2 + (y10-y20)**2)\n",
        "      if d > r1+r2 : return 0;\n",
        "      a = (r1*r1 - r2*r2 + d*d ) / (2*d)\n",
        "      h = sqrt(r1**2 - a**2)\n",
        "      x0 = x10 + a*(x20 - x10)/d;\n",
        "      y0 = y10 + a*(y20 - y10)/d;\n",
        "      x1= x0 + h*(y20 - y10)/d;\n",
        "      y1= y0 - h*(x20 - x10)/d;\n",
        "      print('First intersection : ', x1,y1)\n",
        "      if a == r1 : return [x1,y1]\n",
        "      x2 = x0 - h*(y20 - y10)/d;\n",
        "      y2 = y0 + h*(x20 - x10)/d;\n",
        "      print('Second intersection : ', x2,y2)\n",
        "      return [x1,y1,x2,y2]\n",
        "    \n",
        "    def update(self,observations):\n",
        "      if observations['yellow_posts']:\n",
        "        dxl = observations['yellow_posts'][0][0]\n",
        "        dyl = observations['yellow_posts'][0][1]\n",
        "        r1 = sqrt(dxl**2+dyl**2)\n",
        "        dxR = observations['yellow_posts'][1][0]\n",
        "        dyR = observations['yellow_posts'][1][1]\n",
        "        r2 = sqrt(dxR**2+dyR**2)\n",
        "        x10 = self.landmarks['yellow_posts'][0][0]\n",
        "        y10 = self.landmarks['yellow_posts'][0][1]\n",
        "        x20 = self.landmarks['yellow_posts'][1][0]\n",
        "        y20 = self.landmarks['yellow_posts'][1][1]\n",
        "      else :\n",
        "        dxl = observations['blue_posts'][0][0]\n",
        "        dyl = observations['blue_posts'][0][1]\n",
        "        r1 = sqrt(dxl**2+dyl**2)\n",
        "        dxR = observations['blue_posts'][1][0]\n",
        "        dyR = observations['blue_posts'][1][1]\n",
        "        r2 = sqrt(dxR**2+dyR**2)\n",
        "        x10 = self.landmarks['blue_posts'][0][0]\n",
        "        y10 = self.landmarks['blue_posts'][0][1]\n",
        "        x20 = self.landmarks['blue_posts'][1][0]\n",
        "        y20 = self.landmarks['blue_posts'][1][1]\n",
        "      inter = self.get_points_of_intersection(x10, y10, r1 , x20, y20, r2)\n",
        "      return inter[2], inter[3]"
      ]
    },
    {
      "cell_type": "code",
      "source": [
        "triang = localization_triangulation(Robot(0.0,0.0,0.0), landmarks)"
      ],
      "metadata": {
        "id": "Dyn74z2iruTS"
      },
      "id": "Dyn74z2iruTS",
      "execution_count": 147,
      "outputs": []
    },
    {
      "cell_type": "code",
      "source": [
        "triang.update(observations)"
      ],
      "metadata": {
        "colab": {
          "base_uri": "https://localhost:8080/"
        },
        "id": "TRtYIKmdsA7J",
        "outputId": "69176cd7-71ea-426d-aba5-1d638156773c"
      },
      "id": "TRtYIKmdsA7J",
      "execution_count": 148,
      "outputs": [
        {
          "output_type": "stream",
          "name": "stdout",
          "text": [
            "First intersection :  7.980037649221629 -0.1214000000000004\n",
            "Second intersection :  1.0199623507783713 -0.1214000000000004\n"
          ]
        },
        {
          "output_type": "execute_result",
          "data": {
            "text/plain": [
              "(1.0199623507783713, -0.1214000000000004)"
            ]
          },
          "metadata": {},
          "execution_count": 148
        }
      ]
    },
    {
      "cell_type": "markdown",
      "id": "freelance-messaging",
      "metadata": {
        "id": "freelance-messaging"
      },
      "source": [
        "### 2) Дополнить предыдущий пункт до альфа-бета фильтра (5 балла)"
      ]
    },
    {
      "cell_type": "code",
      "execution_count": 128,
      "id": "cordless-messenger",
      "metadata": {
        "id": "cordless-messenger"
      },
      "outputs": [],
      "source": [
        "class localization_alphabeta:\n",
        "\n",
        "    def __init__(self,robot,landmarks):\n",
        "      self.robot = robot\n",
        "      self.landmarks = landmarks\n",
        "\n",
        "    def update(self,observations,shift):\n",
        "        alpha = 0.85\n",
        "        beta = 0.15\n",
        "        x_init = self.robot.x\n",
        "        y_init = self.robot.y\n",
        "        x_od = (x_init + shift['shift_x'])*alpha\n",
        "        if shift['shift_angle']<0: y_od = (y_init - shift['shift_y'])*alpha\n",
        "        else: y_od = (y_init + shift['shift_y'])*alpha\n",
        "        triang = localization_triangulation((x_od,y_od,self.robot.ang), self.landmarks)\n",
        "        vision = triang.update(observations)\n",
        "        newx = x_od+vision[0]*beta\n",
        "        newy = y_od+vision[1]*beta\n",
        "\n",
        "        return newx, newy, shift['shift_angle']"
      ]
    },
    {
      "cell_type": "code",
      "source": [
        "loc = localization_alphabeta(Robot(0.0,0.0,0.0), landmarks)"
      ],
      "metadata": {
        "id": "04xD5VZW1nL8"
      },
      "id": "04xD5VZW1nL8",
      "execution_count": 149,
      "outputs": []
    },
    {
      "cell_type": "code",
      "source": [
        "new_loc = loc.update(observations,shift)\n",
        "new_loc"
      ],
      "metadata": {
        "id": "Mg80Ij4N1136",
        "outputId": "5dcf1a83-8df3-4831-a93a-901211928a17",
        "colab": {
          "base_uri": "https://localhost:8080/"
        }
      },
      "id": "Mg80Ij4N1136",
      "execution_count": 150,
      "outputs": [
        {
          "output_type": "stream",
          "name": "stdout",
          "text": [
            "First intersection :  7.980037649221629 -0.1214000000000004\n",
            "Second intersection :  1.0199623507783713 -0.1214000000000004\n"
          ]
        },
        {
          "output_type": "execute_result",
          "data": {
            "text/plain": [
              "(1.0029943526167557, -0.02671000000000006, -0.27)"
            ]
          },
          "metadata": {},
          "execution_count": 150
        }
      ]
    },
    {
      "cell_type": "markdown",
      "id": "vanilla-documentary",
      "metadata": {
        "id": "vanilla-documentary"
      },
      "source": [
        "### 3) *Дополнительно* Добавьте визуализацию вида сверху  (2 балла)"
      ]
    },
    {
      "cell_type": "markdown",
      "id": "polyphonic-extension",
      "metadata": {
        "id": "polyphonic-extension"
      },
      "source": [
        "Например на OpenCV или Matplotlib, например так как было в семинаре, чтобы можно было удобно посмотреть на работу модуля.\n"
      ]
    },
    {
      "cell_type": "code",
      "source": [
        "parfield = {\n",
        "    'circles': [\n",
        "              [0.0,0.0,1.0]\n",
        "    ],\n",
        "    'lines': [\n",
        "              [[-3.0,3.0],[0.0,0.0]]\n",
        "    ],\n",
        "    'points': [\n",
        "              [0.0,0.0]\n",
        "    ],\n",
        "    'main_rectangle': [\n",
        "              [6.0,9.0]\n",
        "    ],\n",
        "    'rectangles': [\n",
        "              [[-1,-4.5],2,1],[[-1,3.5],2,1]\n",
        "    ]\n",
        "}"
      ],
      "metadata": {
        "id": "AmQngzOz4LR-"
      },
      "id": "AmQngzOz4LR-",
      "execution_count": 82,
      "outputs": []
    },
    {
      "cell_type": "code",
      "execution_count": 89,
      "id": "systematic-prairie",
      "metadata": {
        "id": "systematic-prairie"
      },
      "outputs": [],
      "source": [
        "class Field:\n",
        "  def __init__(self, field_param):\n",
        "    self.field = field_param\n",
        "    self.w_width = field_param['main_rectangle'][0][0]\n",
        "    self.w_lenght = field_param['main_rectangle'][0][1]"
      ]
    },
    {
      "cell_type": "code",
      "source": [
        "import matplotlib.pylab as plt\n",
        "import math\n",
        "field = Field(parfield)\n",
        "def visualistion(robot, apr=True, factor=7):\n",
        "  plt.figure(\"Robot coordinates\", figsize=(field.w_width, field.w_lenght))\n",
        "  plt.title('Aplha-Beta filtre')\n",
        "\n",
        "  grid = [-field.w_width/2.0, field.w_width/2.0, -field.w_lenght/2.0, field.w_lenght/2.0]\n",
        "  ax = plt.axis(grid)\n",
        "\n",
        "  for el in field.field:\n",
        "    if el == 'circles':\n",
        "      for circle in field.field['circles']:\n",
        "        plot_circle = plt.Circle((circle[0], circle[1]), circle[2], linewidth=2, fill=False, edgecolor='#994c00')\n",
        "        plt.gca().add_patch(plot_circle)\n",
        "    if el == 'lines':\n",
        "      for line in field.field['lines']:\n",
        "        plot_line = plt.Line2D(line[0], line[1], linewidth=2, linestyle='-', color='#330000')\n",
        "        plt.gca().add_line(plot_line)\n",
        "    if el == 'rectangles':\n",
        "      for rectangle in field.field['rectangles']:\n",
        "        rect = plt.Rectangle(rectangle[0], rectangle[1], rectangle[2], linewidth=2, linestyle='-', fill=False)\n",
        "        plt.gca().add_patch(rect)\n",
        "\n",
        "    if apr != False:\n",
        "      circle = plt.Circle((robot.y, robot.x), 1./factor, facecolor='#FF66E9', edgecolor='#FF66E9')\n",
        "      plt.gca().add_patch(circle)\n",
        "\n",
        "      arrow = plt.Arrow(robot.y, robot.x, 3*math.sin(robot.ang)/factor, 3*math.cos(robot.ang)/factor, width=1/factor)\n",
        "      plt.gca().add_patch(arrow)\n"
      ],
      "metadata": {
        "id": "TcDiE5N45fGK"
      },
      "id": "TcDiE5N45fGK",
      "execution_count": 139,
      "outputs": []
    },
    {
      "cell_type": "code",
      "source": [
        "visualistion(Robot(0.0,0.0,0.0))"
      ],
      "metadata": {
        "id": "0ipj6nDi68r-",
        "outputId": "b9a29d3e-598c-4691-83c4-6932bed42aba",
        "colab": {
          "base_uri": "https://localhost:8080/",
          "height": 553
        }
      },
      "id": "0ipj6nDi68r-",
      "execution_count": 151,
      "outputs": [
        {
          "output_type": "display_data",
          "data": {
            "text/plain": [
              "<Figure size 432x648 with 1 Axes>"
            ],
            "image/png": "[encoded data removed]"
          },
          "metadata": {
            "needs_background": "light"
          }
        }
      ]
    },
    {
      "cell_type": "code",
      "source": [
        "visualistion(Robot(new_loc[0],new_loc[1],new_loc[2]))"
      ],
      "metadata": {
        "id": "yySVcFDuFNo1",
        "outputId": "3d36fed1-3329-42c6-cc92-57c68b7dcfbb",
        "colab": {
          "base_uri": "https://localhost:8080/",
          "height": 553
        }
      },
      "id": "yySVcFDuFNo1",
      "execution_count": 152,
      "outputs": [
        {
          "output_type": "display_data",
          "data": {
            "text/plain": [
              "<Figure size 432x648 with 1 Axes>"
            ],
            "image/png": "[encoded data removed]"
          },
          "metadata": {
            "needs_background": "light"
          }
        }
      ]
    }
  ],
  "metadata": {
    "kernelspec": {
      "display_name": "Python 3",
      "language": "python",
      "name": "python3"
    },
    "language_info": {
      "codemirror_mode": {
        "name": "ipython",
        "version": 3
      },
      "file_extension": ".py",
      "mimetype": "text/x-python",
      "name": "python",
      "nbconvert_exporter": "python",
      "pygments_lexer": "ipython3",
      "version": "3.9.2"
    },
    "colab": {
      "name": "localization_hw8.ipynb",
      "provenance": [],
      "include_colab_link": true
    }
  },
  "nbformat": 4,
  "nbformat_minor": 5
}